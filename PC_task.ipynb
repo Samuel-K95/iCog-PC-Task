{
  "nbformat": 4,
  "nbformat_minor": 0,
  "metadata": {
    "colab": {
      "provenance": [],
      "authorship_tag": "ABX9TyO3YcYXalHZo11viuI8wV4x",
      "include_colab_link": true
    },
    "kernelspec": {
      "name": "python3",
      "display_name": "Python 3"
    },
    "language_info": {
      "name": "python"
    }
  },
  "cells": [
    {
      "cell_type": "markdown",
      "metadata": {
        "id": "view-in-github",
        "colab_type": "text"
      },
      "source": [
        "<a href=\"https://colab.research.google.com/github/Samuel-K95/iCog-PC-Task/blob/main/PC_task.ipynb\" target=\"_parent\"><img src=\"https://colab.research.google.com/assets/colab-badge.svg\" alt=\"Open In Colab\"/></a>"
      ]
    },
    {
      "cell_type": "markdown",
      "source": [
        "### Step by step breakdown of Predictive Coding."
      ],
      "metadata": {
        "id": "TK9h1MglVmKm"
      }
    },
    {
      "cell_type": "markdown",
      "source": [
        "1. Input Clamping\n",
        "\n",
        "    - Fix the input layer to the data (e.g., an image or signal).\n",
        "    - This is the “sensory input” that higher layers must explain.\n",
        "\n",
        "2. Initialize Latent States\n",
        "\n",
        "    - Randomly initialize hidden variables\n",
        "    - These represent initial “guesses” about hidden causes of the input.\n",
        "\n",
        "3. Top-Down Prediction\n",
        "\n",
        "    - Each higher layer generates predictions for the layer below\n",
        "\n",
        "4. Prediction Error Computation\n",
        "\n",
        "    - For every layer, compute the mismatch:\n",
        "    - These errors measure surprise or “unexplained” input.\n",
        "\n",
        "5. Bottom-Up Error Propagation\n",
        "\n",
        "    - Errors flow upwards in the hierarchy.\n",
        "\n",
        "    - Lower-layer errors inform higher layers about how their predictions failed.\n",
        "\n",
        "6. Inference: Update Latent States\n",
        "\n",
        "    - Latent states are updated iteratively to reduce total error\n",
        "    - This fast loop continues until the system “settles” (converges).\n",
        "\n",
        "7. Recompute Predictions & Errors\n",
        "\n",
        "    - After each latent update, recompute predictions and errors.\n",
        "\n",
        "    - Repeat steps (3–6) for several iterations.\n",
        "\n",
        "    - This ensures the network stabilizes into a consistent explanation of the input.\n",
        "\n",
        "8. Weight Update (Learning)\n",
        "\n",
        "    - Once inference converges, update generative weights\n",
        "    - Local Hebbian-like rule: depends only on presynaptic activity and postsynaptic error.\n",
        "\n",
        "9. Repeat for New Inputs\n",
        "\n",
        "    - Restart the cycle with the next data sample (or minibatch).\n",
        "\n",
        "    - Over time, weights adapt so predictions improve, reducing average error."
      ],
      "metadata": {
        "id": "gKJ2JuZUbsdW"
      }
    },
    {
      "cell_type": "markdown",
      "source": [
        "### Task"
      ],
      "metadata": {
        "id": "JhKbV5N0eJIt"
      }
    },
    {
      "cell_type": "markdown",
      "source": [
        "- Use the MNIST dataset to build a 4-layer predictive coding neural network for image classification.\n",
        "\n",
        "- Train the network with Hebbian learning using Mean Squared Error (MSE) as the energy function.\n",
        "\n",
        "- Run training for 5–10 epochs, measuring both loss and accuracy.\n",
        "\n",
        "- Plot training vs validation loss curves (and accuracy curves) across epochs.\n",
        "\n",
        "- Use TorchScript (torch.jit) for CPU-compatible parallelization and maintain progress with GitHub commit history."
      ],
      "metadata": {
        "id": "hPvgrQ6zeNbo"
      }
    },
    {
      "cell_type": "code",
      "execution_count": 20,
      "metadata": {
        "id": "07gWe7gXUAQA"
      },
      "outputs": [],
      "source": [
        "# Imports\n",
        "\n",
        "import torch\n",
        "import torch.nn as nn\n",
        "import torch.nn.functional as F\n",
        "from torchvision import datasets, transforms\n",
        "from torch.utils.data import DataLoader\n",
        "import matplotlib.pyplot as plt\n",
        "from tqdm import tqdm\n",
        "import time"
      ]
    },
    {
      "cell_type": "code",
      "source": [
        "# Constants\n",
        "\n",
        "INPUT_DIM = 28 * 28\n",
        "LAYER_DIMS = [INPUT_DIM, 512, 256, 128]\n",
        "OUTPUT_DIM = 10\n",
        "\n",
        "EPOCHS = 10\n",
        "BATCH_SIZE = 256\n",
        "NUM_WORKERS = 2\n",
        "T_INFER = 50\n",
        "ETA_INFER = 0.1\n",
        "ETA_LEARN = 0.004\n",
        "BETA_SUPERVISED = 0.2\n",
        "\n",
        "DEVICE = \"cpu\"\n",
        "print(f\"Using device: {DEVICE}\")"
      ],
      "metadata": {
        "colab": {
          "base_uri": "https://localhost:8080/"
        },
        "id": "FgCa7ovVisv2",
        "outputId": "f60104d3-9f20-467b-c036-c0fa2f731fdf"
      },
      "execution_count": 21,
      "outputs": [
        {
          "output_type": "stream",
          "name": "stdout",
          "text": [
            "Using device: cpu\n"
          ]
        }
      ]
    },
    {
      "cell_type": "code",
      "source": [
        "# Data loading\n",
        "transform = transforms.Compose([\n",
        "    transforms.ToTensor(),\n",
        "    transforms.Normalize((0.1307,), (0.3081,)),\n",
        "    transforms.Lambda(lambda x: x.view(-1))\n",
        "])\n",
        "\n",
        "train_dataset = datasets.MNIST('./data', train=True, download=True, transform = transform)\n",
        "val_dataset = datasets.MNIST('./data', train=False, transform=transform)\n",
        "\n",
        "train_loader = DataLoader(train_dataset, batch_size=BATCH_SIZE, shuffle=True, num_workers=NUM_WORKERS)\n",
        "val_loader = DataLoader(val_dataset, batch_size=BATCH_SIZE, shuffle=False, num_workers=NUM_WORKERS)"
      ],
      "metadata": {
        "id": "1S4ba9n_jYD6"
      },
      "execution_count": 22,
      "outputs": []
    },
    {
      "cell_type": "code",
      "source": [
        "# Model Structure\n",
        "\n",
        "class PredictieCodingNetwork(nn.Module):\n",
        "  \"\"\"\n",
        "  An Object-Oriented container for the PCN weights.\n",
        "  This class holds the learnable parameters in a structured way.\n",
        "  The core computation is handled by external, JIT-compiled functions\n",
        "  \"\"\"\n",
        "\n",
        "  def __init__(self, layer_dims, output_dim):\n",
        "    super().__init__()\n",
        "    self.layer_dims = layer_dims\n",
        "    self.output_dim = output_dim\n",
        "    self.L = len(layer_dims) - 1 # Number of latent layers\n",
        "\n",
        "    # Create the generative layers (top-down predictions)\n",
        "    # Stored from top to bottom: L3 -> L2, L2 -> L1, L1 -> Input\n",
        "    self.generative_layers = nn.ModuleList()\n",
        "    for i in range(self.L, 0, -1):\n",
        "      # Layer predicts from dims[i] down to dims[i-1]\n",
        "      self.generative_layers.append(nn.Linear(layer_dims[i], layer_dims[i-1], bias=False))\n",
        "\n",
        "    # Readout layer for classification (predicts from top latent state)\n",
        "    self.readout = nn.Linear(layer_dims[-1], output_dim, bias=False)\n",
        "\n",
        "\n",
        "  def init_latents(self, batch_size):\n",
        "    \"\"\"\n",
        "    Initializes latent states with random noise\n",
        "    \"\"\"\n",
        "\n",
        "    latent_states = []\n",
        "    for dim in self.layer_dims[1:]:\n",
        "      state = torch.randn(batch_size, dim, device=DEVICE)\n",
        "      latent_states.append(state)\n",
        "    return latent_states\n",
        "\n",
        "model = PredictieCodingNetwork(LAYER_DIMS, OUTPUT_DIM).to(device=DEVICE)\n",
        "print(\"Model Architecture: \\n\", model)\n"
      ],
      "metadata": {
        "colab": {
          "base_uri": "https://localhost:8080/"
        },
        "id": "-FTfJbUCkNUx",
        "outputId": "dd404579-8230-4e62-c827-6e144a6713aa"
      },
      "execution_count": 23,
      "outputs": [
        {
          "output_type": "stream",
          "name": "stdout",
          "text": [
            "Model Architecture: \n",
            " PredictieCodingNetwork(\n",
            "  (generative_layers): ModuleList(\n",
            "    (0): Linear(in_features=128, out_features=256, bias=False)\n",
            "    (1): Linear(in_features=256, out_features=512, bias=False)\n",
            "    (2): Linear(in_features=512, out_features=784, bias=False)\n",
            "  )\n",
            "  (readout): Linear(in_features=128, out_features=10, bias=False)\n",
            ")\n"
          ]
        }
      ]
    },
    {
      "cell_type": "code",
      "source": [
        "# jit function for inference and learning\n",
        "\n",
        "@torch.jit.script\n",
        "def run_pcn_batch(\n",
        "    x0: torch.Tensor,\n",
        "    y_onehot: torch.Tensor,\n",
        "    weights_gen: list[torch.Tensor],\n",
        "    weight_readout: torch.Tensor,\n",
        "\n",
        "    t_infer: int,\n",
        "    eta_infer: float,\n",
        "    eta_learn: float,\n",
        "    beta_supervised: float,\n",
        "    is_train: bool\n",
        "):\n",
        "  \"\"\"\n",
        "  JIT-compiled function to run a single batch through inference and learning.\n",
        "  This uses explicit gradient updates.\n",
        "  \"\"\"\n",
        "\n",
        "  batch_size = x0.shape[0]\n",
        "  x1 = torch.randn(batch_size, weights_gen[2].shape[1], device=x0.device)\n",
        "  x2 = torch.randn(batch_size, weights_gen[1].shape[1], device=x0.device)\n",
        "  x3 = torch.randn(batch_size, weights_gen[0].shape[1], device=x0.device)\n",
        "\n",
        "  # inference loop\n",
        "  for _ in range(t_infer):\n",
        "    xhat2 = F.relu(x3 @ weights_gen[0].t())\n",
        "    xhat1 = F.relu(x2 @ weights_gen[1].t())\n",
        "    xhat0 = F.relu(x1 @ weights_gen[2].t())\n",
        "\n",
        "    # errors\n",
        "    e2 = x2 - xhat2\n",
        "    e1 = x1 - xhat1\n",
        "    e0 = x0 - xhat0\n",
        "\n",
        "    # calculate gradient for latents states\n",
        "    # update rule is: dx/dt = -dE/dx ≈ ε_l - W_{l-1}^T @ (f'(a_{l-1}) ⊙ ε_{l-1})\n",
        "\n",
        "    # Corrected linear operations\n",
        "    grad_x1 = e1 - F.linear(e0 * (xhat0 > 0).float(), weights_gen[2].t())\n",
        "    gradx2 = e2 - F.linear(e1 * (xhat1 > 0).float(), weights_gen[1].t())\n",
        "    grad_x3 = -F.linear(e2 * (xhat2 > 0).float(), weights_gen[0].t())\n",
        "\n",
        "\n",
        "    if is_train:\n",
        "      y_hat = x3 @ weight_readout.t()\n",
        "      e_sup = y_onehot - y_hat\n",
        "\n",
        "      # Supervised signal pulls the top layer's representation\n",
        "      grad_x3 -= F.linear(e_sup, weight_readout.t()) * beta_supervised\n",
        "\n",
        "\n",
        "    # Update latent states via gradient descent\n",
        "\n",
        "    x1 = x1 - eta_infer * grad_x1\n",
        "    x2 = x2 - eta_infer * gradx2\n",
        "    x3 = x3 - eta_infer * grad_x3\n",
        "\n",
        "\n",
        "  final_y_hat = x3 @ weight_readout.t()\n",
        "  final_val_loss = F.mse_loss(final_y_hat, y_onehot)\n",
        "\n",
        "  if is_train:\n",
        "    xhat2 = F.relu(x3 @ weights_gen[0].t())\n",
        "    xhat1 = F.relu(x2 @ weights_gen[1].t())\n",
        "    xhat0 = F.relu(x1 @ weights_gen[2].t())\n",
        "\n",
        "    e2 = x2 - xhat2\n",
        "    e1 = x1 - xhat1\n",
        "    e0 = x0 - xhat0\n",
        "\n",
        "\n",
        "    # Hebbian weight update, using W_l ∝ error_l * activation_{l+1}^T\n",
        "    dw0 = torch.matmul((e2 * (xhat2 > 0).float()).t(), x3) / batch_size\n",
        "    weights_gen[0] = weights_gen[0] + eta_learn * dw0\n",
        "\n",
        "    dw1 = torch.matmul((e1 * (xhat1 > 0).float()).t(), x2) / batch_size\n",
        "    weights_gen[1] = weights_gen[1] + eta_learn * dw1\n",
        "\n",
        "    dw2 = torch.matmul((e0 * (xhat0 > 0).float()).t(), x1) / batch_size\n",
        "    weights_gen[2] = weights_gen[2] + eta_learn * dw2\n",
        "\n",
        "\n",
        "    e_sup = y_onehot - final_y_hat\n",
        "    dw_readout = torch.matmul(e_sup.t(), x3) / batch_size\n",
        "    weight_readout = weight_readout + eta_learn * dw_readout\n",
        "\n",
        "  return weights_gen, weight_readout, final_val_loss, final_y_hat"
      ],
      "metadata": {
        "id": "hePAGMhvmCQw"
      },
      "execution_count": 24,
      "outputs": []
    },
    {
      "cell_type": "code",
      "source": [
        "# Training Loop\n",
        "\n",
        "def run_epoch(model, loader, is_train):\n",
        "  \"\"\"\n",
        "  A simple wrapper functtion to iterate over the data loader and call the\n",
        "  JIT-compiled batch processing function\n",
        "  \"\"\"\n",
        "\n",
        "  total_loss = 0.0\n",
        "  correct_preds = 0\n",
        "  total_samples = 0\n",
        "\n",
        "  for inputs, targets in tqdm(loader, desc=\"Training\" if is_train else \"Validation\"):\n",
        "    inputs, targets = inputs.to(DEVICE), targets.to(DEVICE)\n",
        "    y_onehot = F.one_hot(targets, num_classes=OUTPUT_DIM).float()\n",
        "\n",
        "    weight_gen = [layer.weight for layer in model.generative_layers]\n",
        "    weight_readout = model.readout.weight\n",
        "\n",
        "    updated_weights_gen, updated_weight_readout, batch_loss, final_y_hat = run_pcn_batch(\n",
        "        x0=inputs,\n",
        "        y_onehot=y_onehot,\n",
        "        weights_gen=weight_gen,\n",
        "        weight_readout=weight_readout,\n",
        "        t_infer = T_INFER,\n",
        "        eta_infer=ETA_INFER,\n",
        "        eta_learn=ETA_LEARN,\n",
        "        beta_supervised=BETA_SUPERVISED,\n",
        "        is_train=is_train\n",
        "    )\n",
        "\n",
        "    if is_train:\n",
        "      with torch.no_grad():\n",
        "        for i in range(len(model.generative_layers)):\n",
        "          model.generative_layers[i].weight.copy_(updated_weights_gen[i])\n",
        "\n",
        "        model.readout.weight.copy_(updated_weight_readout)\n",
        "\n",
        "    total_loss += batch_loss.item() * inputs.shape[0]\n",
        "    preds = torch.argmax(final_y_hat, dim=1)\n",
        "    correct_preds += (preds == targets).sum().item()\n",
        "    total_samples += inputs.shape[0]\n",
        "\n",
        "  return total_loss / total_samples, correct_preds / total_samples"
      ],
      "metadata": {
        "id": "Wg-syKnYnGBW"
      },
      "execution_count": 25,
      "outputs": []
    },
    {
      "cell_type": "code",
      "source": [
        "# Training loop\n",
        "# --- MAIN TRAINING LOOP ---\n",
        "train_losses, val_losses = [], []\n",
        "val_accuracies = []\n",
        "\n",
        "print(\"\\nStarting training...\")\n",
        "start_time = time.time()\n",
        "\n",
        "for epoch in range(EPOCHS):\n",
        "    model.train()\n",
        "    # The `no_grad` context is crucial as we do all updates manually\n",
        "    with torch.no_grad():\n",
        "      train_loss, _ = run_epoch(model, train_loader, is_train=True)\n",
        "\n",
        "    model.eval()\n",
        "    with torch.no_grad():\n",
        "        val_loss, val_acc = run_epoch(model, val_loader, is_train=False)\n",
        "\n",
        "    train_losses.append(train_loss)\n",
        "    val_losses.append(val_loss)\n",
        "    val_accuracies.append(val_acc)\n",
        "\n",
        "    print(f\"Epoch {epoch+1}/{EPOCHS} | \"\n",
        "          f\"Train Loss: {train_loss:.4f} | \"\n",
        "          f\"Val Loss: {val_loss:.4f} | \"\n",
        "          f\"Val Accuracy: {val_acc*100:.2f}%\")\n",
        "\n",
        "end_time = time.time()\n",
        "print(f\"\\nTraining finished in {end_time - start_time:.2f} seconds.\")\n",
        "\n",
        "\n",
        "# --- VISUALIZATION ---\n",
        "plt.figure(figsize=(12, 5))\n",
        "plt.subplot(1, 2, 1)\n",
        "plt.plot(range(1, EPOCHS + 1), train_losses, marker='o', label='Training Loss')\n",
        "plt.plot(range(1, EPOCHS + 1), val_losses, marker='o', label='Validation Loss')\n",
        "plt.title('Training and Validation Loss (MSE)')\n",
        "plt.xlabel('Epochs')\n",
        "plt.ylabel('Loss')\n",
        "plt.legend()\n",
        "plt.grid(True)\n",
        "\n",
        "plt.subplot(1, 2, 2)\n",
        "plt.plot(range(1, EPOCHS + 1), val_accuracies, marker='o', color='g', label='Validation Accuracy')\n",
        "plt.title('Validation Accuracy')\n",
        "plt.xlabel('Epochs')\n",
        "plt.ylabel('Accuracy')\n",
        "plt.ylim(0, 1.0)\n",
        "plt.legend()\n",
        "plt.grid(True)\n",
        "\n",
        "plt.tight_layout()\n",
        "plt.show()"
      ],
      "metadata": {
        "colab": {
          "base_uri": "https://localhost:8080/",
          "height": 1000
        },
        "id": "CzongipnsYyN",
        "outputId": "47c2ba2d-7771-46e3-cac7-d58dcb8c8008"
      },
      "execution_count": 26,
      "outputs": [
        {
          "output_type": "stream",
          "name": "stdout",
          "text": [
            "\n",
            "Starting training...\n"
          ]
        },
        {
          "output_type": "stream",
          "name": "stderr",
          "text": [
            "Training: 100%|██████████| 235/235 [02:38<00:00,  1.48it/s]\n",
            "Validation: 100%|██████████| 40/40 [00:25<00:00,  1.55it/s]\n"
          ]
        },
        {
          "output_type": "stream",
          "name": "stdout",
          "text": [
            "Epoch 1/10 | Train Loss: 0.1900 | Val Loss: 0.1714 | Val Accuracy: 17.22%\n"
          ]
        },
        {
          "output_type": "stream",
          "name": "stderr",
          "text": [
            "Training: 100%|██████████| 235/235 [02:37<00:00,  1.50it/s]\n",
            "Validation: 100%|██████████| 40/40 [00:25<00:00,  1.55it/s]\n"
          ]
        },
        {
          "output_type": "stream",
          "name": "stdout",
          "text": [
            "Epoch 2/10 | Train Loss: 0.1139 | Val Loss: 0.1038 | Val Accuracy: 32.03%\n"
          ]
        },
        {
          "output_type": "stream",
          "name": "stderr",
          "text": [
            "Training: 100%|██████████| 235/235 [02:37<00:00,  1.49it/s]\n",
            "Validation: 100%|██████████| 40/40 [00:25<00:00,  1.56it/s]\n"
          ]
        },
        {
          "output_type": "stream",
          "name": "stdout",
          "text": [
            "Epoch 3/10 | Train Loss: 0.0861 | Val Loss: 0.0836 | Val Accuracy: 47.18%\n"
          ]
        },
        {
          "output_type": "stream",
          "name": "stderr",
          "text": [
            "Training: 100%|██████████| 235/235 [02:36<00:00,  1.51it/s]\n",
            "Validation: 100%|██████████| 40/40 [00:25<00:00,  1.54it/s]\n"
          ]
        },
        {
          "output_type": "stream",
          "name": "stdout",
          "text": [
            "Epoch 4/10 | Train Loss: 0.0768 | Val Loss: 0.0774 | Val Accuracy: 55.17%\n"
          ]
        },
        {
          "output_type": "stream",
          "name": "stderr",
          "text": [
            "Training: 100%|██████████| 235/235 [02:38<00:00,  1.48it/s]\n",
            "Validation: 100%|██████████| 40/40 [00:26<00:00,  1.53it/s]\n"
          ]
        },
        {
          "output_type": "stream",
          "name": "stdout",
          "text": [
            "Epoch 5/10 | Train Loss: 0.0732 | Val Loss: 0.0747 | Val Accuracy: 58.32%\n"
          ]
        },
        {
          "output_type": "stream",
          "name": "stderr",
          "text": [
            "Training: 100%|██████████| 235/235 [02:40<00:00,  1.46it/s]\n",
            "Validation: 100%|██████████| 40/40 [00:25<00:00,  1.56it/s]\n"
          ]
        },
        {
          "output_type": "stream",
          "name": "stdout",
          "text": [
            "Epoch 6/10 | Train Loss: 0.0712 | Val Loss: 0.0732 | Val Accuracy: 60.22%\n"
          ]
        },
        {
          "output_type": "stream",
          "name": "stderr",
          "text": [
            "Training: 100%|██████████| 235/235 [02:38<00:00,  1.48it/s]\n",
            "Validation: 100%|██████████| 40/40 [00:25<00:00,  1.55it/s]\n"
          ]
        },
        {
          "output_type": "stream",
          "name": "stdout",
          "text": [
            "Epoch 7/10 | Train Loss: 0.0702 | Val Loss: 0.0725 | Val Accuracy: 60.27%\n"
          ]
        },
        {
          "output_type": "stream",
          "name": "stderr",
          "text": [
            "Training: 100%|██████████| 235/235 [02:37<00:00,  1.49it/s]\n",
            "Validation: 100%|██████████| 40/40 [00:25<00:00,  1.58it/s]\n"
          ]
        },
        {
          "output_type": "stream",
          "name": "stdout",
          "text": [
            "Epoch 8/10 | Train Loss: 0.0693 | Val Loss: 0.0719 | Val Accuracy: 61.03%\n"
          ]
        },
        {
          "output_type": "stream",
          "name": "stderr",
          "text": [
            "Training: 100%|██████████| 235/235 [02:35<00:00,  1.52it/s]\n",
            "Validation: 100%|██████████| 40/40 [00:25<00:00,  1.59it/s]\n"
          ]
        },
        {
          "output_type": "stream",
          "name": "stdout",
          "text": [
            "Epoch 9/10 | Train Loss: 0.0687 | Val Loss: 0.0713 | Val Accuracy: 60.67%\n"
          ]
        },
        {
          "output_type": "stream",
          "name": "stderr",
          "text": [
            "Training: 100%|██████████| 235/235 [02:35<00:00,  1.51it/s]\n",
            "Validation: 100%|██████████| 40/40 [00:25<00:00,  1.60it/s]\n"
          ]
        },
        {
          "output_type": "stream",
          "name": "stdout",
          "text": [
            "Epoch 10/10 | Train Loss: 0.0681 | Val Loss: 0.0709 | Val Accuracy: 60.59%\n",
            "\n",
            "Training finished in 1832.12 seconds.\n"
          ]
        },
        {
          "output_type": "display_data",
          "data": {
            "text/plain": [
              "<Figure size 1200x500 with 2 Axes>"
            ],
            "image/png": "[encoded data removed]"
          },
          "metadata": {}
        }
      ]
    },
    {
      "cell_type": "code",
      "source": [],
      "metadata": {
        "id": "wo4myiTevJDL"
      },
      "execution_count": null,
      "outputs": []
    }
  ]
}